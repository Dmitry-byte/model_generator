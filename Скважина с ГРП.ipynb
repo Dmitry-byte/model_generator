{
 "cells": [
  {
   "cell_type": "markdown",
   "id": "finished-worship",
   "metadata": {},
   "source": [
    "Оцените псевдо радиальный скин фактор на скважине с ГРП с использованием аналитической модели и гидродинамической модели.\n",
    "\n",
    "Постройте график зависимости скин фаткора от полудлины трещины $ x_f $ ГРП (50, 100, 300) метров по аналитической и численной моделям. \n",
    "\n",
    "* Скважина находится в пласте мощностю $ h = 30 $ м\n",
    "* Проницаемость пласта $ k_h = 10 $ мД\n",
    "* Размеры пласта 600 на 600 м\n",
    "* Вертикальная проницаемость $ k_v = 1 $ мД\n",
    "* Остаточная проницаемость трещины ГРП $ k_f = 100 $ Д\n",
    "* Ширина трещины ГРП $ w_f = 5 $ мм\n",
    "\n",
    "Дополнительные вопросы:\n",
    "\n",
    "1) Как изменится скин-фатор на скважине при изменении вертиклаьной проницаемости до 5 мД.\n",
    "\n",
    "2) Как изменится скин-фактор на скважине при наличии вокруг скважины зоны со сниженной проницаеомстью в 1 мД, радиусом 1 м."
   ]
  },
  {
   "cell_type": "code",
   "execution_count": 1,
   "id": "roman-palmer",
   "metadata": {},
   "outputs": [],
   "source": [
    "# Стоит сделать сначала темплейт"
   ]
  },
  {
   "cell_type": "code",
   "execution_count": null,
   "id": "processed-shareware",
   "metadata": {},
   "outputs": [],
   "source": []
  }
 ],
 "metadata": {
  "kernelspec": {
   "display_name": "Python 3",
   "language": "python",
   "name": "python3"
  },
  "language_info": {
   "codemirror_mode": {
    "name": "ipython",
    "version": 3
   },
   "file_extension": ".py",
   "mimetype": "text/x-python",
   "name": "python",
   "nbconvert_exporter": "python",
   "pygments_lexer": "ipython3",
   "version": "3.9.1"
  }
 },
 "nbformat": 4,
 "nbformat_minor": 5
}
