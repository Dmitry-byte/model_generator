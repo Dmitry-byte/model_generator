{
 "cells": [
  {
   "cell_type": "markdown",
   "id": "threaded-favor",
   "metadata": {},
   "source": [
    "Постройте в Excel и в симуляторе модель наконной скважины и сравните результаты.\n",
    "\n",
    "Для сравнения результатов надо построить график зависимости скин-фаткора на скважине от угла наклона скважины ($θ$ от 0 до 75 градусов с шагом 25 градусов).\n",
    "\n",
    "Параметры пласта налогично другим заданиям:\n",
    "\n",
    "* Проницаемость по горизонтали $ k_h = 100 $ мД\n",
    "* Проницаемость по вертикали $ k_v = 10 $ мД\n",
    "* Мощность пласта $ h = 10 $ м\n",
    "* Радиус скважины $ r_w = 0.1 $ м\n",
    "\n",
    "Загрязнение призабойной зоны нет $S_d = 0$\n",
    "\n",
    "Дополинтельное задание:\n",
    "\n",
    "1) Как изменится скин-фаткор на скважине, если скважина будет наклонная, но вскрывать пласт частично - только на треть длины? Сделайте оценку изменения скин-фактора на симуляторе."
   ]
  },
  {
   "cell_type": "code",
   "execution_count": 1,
   "id": "lesbian-research",
   "metadata": {},
   "outputs": [],
   "source": [
    "# тут тоже необходимо будет сделать серию темлейтов"
   ]
  },
  {
   "cell_type": "code",
   "execution_count": null,
   "id": "genetic-peter",
   "metadata": {},
   "outputs": [],
   "source": []
  }
 ],
 "metadata": {
  "kernelspec": {
   "display_name": "Python 3",
   "language": "python",
   "name": "python3"
  },
  "language_info": {
   "codemirror_mode": {
    "name": "ipython",
    "version": 3
   },
   "file_extension": ".py",
   "mimetype": "text/x-python",
   "name": "python",
   "nbconvert_exporter": "python",
   "pygments_lexer": "ipython3",
   "version": "3.9.1"
  }
 },
 "nbformat": 4,
 "nbformat_minor": 5
}
