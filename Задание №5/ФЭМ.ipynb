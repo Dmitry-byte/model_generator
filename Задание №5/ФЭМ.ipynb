{
 "cells": [
  {
   "cell_type": "markdown",
   "id": "adolescent-number",
   "metadata": {},
   "source": [
    "#### Для месторождения Капмо Трес необходимо cформировать финансово - экономическую модель и рассчитать показатели разработки:\n",
    "* Ввести данные по профилю добычи\n",
    "* Ввести данные по вводу скважины\n",
    "* Ввести данные по бурению/кустованию \n",
    "* Ввести данные по схеме поверхностного обустройства \n",
    "* Рассчитать финансово-экономические показатели "
   ]
  },
  {
   "cell_type": "code",
   "execution_count": 1,
   "id": "danish-soviet",
   "metadata": {},
   "outputs": [
    {
     "data": {
      "text/html": [
       "        <script type=\"text/javascript\">\n",
       "        window.PlotlyConfig = {MathJaxConfig: 'local'};\n",
       "        if (window.MathJax) {MathJax.Hub.Config({SVG: {font: \"STIX-Web\"}});}\n",
       "        if (typeof require !== 'undefined') {\n",
       "        require.undef(\"plotly\");\n",
       "        requirejs.config({\n",
       "            paths: {\n",
       "                'plotly': ['https://cdn.plot.ly/plotly-latest.min']\n",
       "            }\n",
       "        });\n",
       "        require(['plotly'], function(Plotly) {\n",
       "            window._Plotly = Plotly;\n",
       "        });\n",
       "        }\n",
       "        </script>\n",
       "        "
      ]
     },
     "metadata": {},
     "output_type": "display_data"
    }
   ],
   "source": [
    "import plotly.graph_objs as go\n",
    "import pandas as pd\n",
    "from plotly.offline import init_notebook_mode\n",
    "\n",
    "init_notebook_mode(connected = True)"
   ]
  },
  {
   "cell_type": "markdown",
   "id": "visible-launch",
   "metadata": {},
   "source": [
    "*1) Вводим статические параметры пласта и обустройства месторождения:*"
   ]
  },
  {
   "cell_type": "code",
   "execution_count": 2,
   "id": "civilian-carnival",
   "metadata": {},
   "outputs": [],
   "source": [
    "depth = 2500 # глубина пласта, м\n",
    "pads_number = 4 # количество кустов\n",
    "horizontal_length = 700 # длина горизонтального участка ствола добывающих ГС, м\n",
    "HF_halflength = 500 # полудлина трещины ГРП (скин=-2), м\n"
   ]
  },
  {
   "cell_type": "markdown",
   "id": "considerable-memory",
   "metadata": {},
   "source": [
    "*2) Вводим сценарные экономические условия (задаются преподавателем); их можно будет менять для анализа чувствительности:*"
   ]
  },
  {
   "cell_type": "code",
   "execution_count": 3,
   "id": "needed-internship",
   "metadata": {},
   "outputs": [],
   "source": [
    "oil_price = 15000 # цена нефти в руб/т\n",
    "oil_taxes = 10500 # налоги в руб/т нефти\n",
    "transport_price = 500 # стоимость транспорта нефти в руб/т\n",
    "discount_rate = 15 # ставка дисконтирования"
   ]
  },
  {
   "cell_type": "markdown",
   "id": "defensive-squad",
   "metadata": {},
   "source": [
    "*3) Загружаем профили добычи жидкости, нефти, воды и газа из симулятора:*"
   ]
  },
  {
   "cell_type": "code",
   "execution_count": 4,
   "id": "medieval-following",
   "metadata": {},
   "outputs": [
    {
     "ename": "FileNotFoundError",
     "evalue": "[Errno 2] No such file or directory: 'csv_folder/MODEL_0.csv'",
     "output_type": "error",
     "traceback": [
      "\u001b[1;31m---------------------------------------------------------------------------\u001b[0m",
      "\u001b[1;31mFileNotFoundError\u001b[0m                         Traceback (most recent call last)",
      "\u001b[1;32m<ipython-input-4-79ff8bb8a26b>\u001b[0m in \u001b[0;36m<module>\u001b[1;34m\u001b[0m\n\u001b[1;32m----> 1\u001b[1;33m \u001b[0mdf\u001b[0m \u001b[1;33m=\u001b[0m \u001b[0mpd\u001b[0m\u001b[1;33m.\u001b[0m\u001b[0mread_csv\u001b[0m\u001b[1;33m(\u001b[0m\u001b[1;34m'csv_folder/MODEL_0.csv'\u001b[0m\u001b[1;33m,\u001b[0m \u001b[0mparse_dates\u001b[0m\u001b[1;33m=\u001b[0m\u001b[1;33m[\u001b[0m\u001b[1;36m0\u001b[0m\u001b[1;33m]\u001b[0m\u001b[1;33m,\u001b[0m \u001b[0mindex_col\u001b[0m\u001b[1;33m=\u001b[0m\u001b[1;33m[\u001b[0m\u001b[1;36m0\u001b[0m\u001b[1;33m]\u001b[0m\u001b[1;33m)\u001b[0m\u001b[1;33m\u001b[0m\u001b[1;33m\u001b[0m\u001b[0m\n\u001b[0m\u001b[0;32m      2\u001b[0m \u001b[0mj\u001b[0m\u001b[1;33m,\u001b[0m \u001b[0my\u001b[0m\u001b[1;33m,\u001b[0m \u001b[0mind_j\u001b[0m \u001b[1;33m=\u001b[0m \u001b[1;36m0\u001b[0m\u001b[1;33m,\u001b[0m \u001b[1;36m0\u001b[0m\u001b[1;33m,\u001b[0m \u001b[1;36m0\u001b[0m\u001b[1;33m\u001b[0m\u001b[1;33m\u001b[0m\u001b[0m\n\u001b[0;32m      3\u001b[0m \u001b[0mtime_list\u001b[0m\u001b[1;33m,\u001b[0m \u001b[0mq_oil\u001b[0m\u001b[1;33m,\u001b[0m \u001b[0mq_gas\u001b[0m\u001b[1;33m,\u001b[0m \u001b[0mq_wat\u001b[0m\u001b[1;33m,\u001b[0m \u001b[0minj_wat\u001b[0m \u001b[1;33m=\u001b[0m \u001b[1;33m[\u001b[0m\u001b[1;33m]\u001b[0m\u001b[1;33m,\u001b[0m \u001b[1;33m[\u001b[0m\u001b[1;33m]\u001b[0m\u001b[1;33m,\u001b[0m \u001b[1;33m[\u001b[0m\u001b[1;33m]\u001b[0m\u001b[1;33m,\u001b[0m \u001b[1;33m[\u001b[0m\u001b[1;33m]\u001b[0m\u001b[1;33m,\u001b[0m \u001b[1;33m[\u001b[0m\u001b[1;33m]\u001b[0m\u001b[1;33m\u001b[0m\u001b[1;33m\u001b[0m\u001b[0m\n\u001b[0;32m      4\u001b[0m \u001b[0mto\u001b[0m \u001b[1;33m=\u001b[0m \u001b[0mdf\u001b[0m\u001b[1;33m.\u001b[0m\u001b[0mindex\u001b[0m\u001b[1;33m[\u001b[0m\u001b[1;36m0\u001b[0m\u001b[1;33m]\u001b[0m\u001b[1;33m\u001b[0m\u001b[1;33m\u001b[0m\u001b[0m\n\u001b[0;32m      5\u001b[0m \u001b[0mfopt\u001b[0m\u001b[1;33m,\u001b[0m \u001b[0mfgpt\u001b[0m\u001b[1;33m,\u001b[0m \u001b[0mfwpt\u001b[0m\u001b[1;33m,\u001b[0m \u001b[0mfwit\u001b[0m\u001b[1;33m,\u001b[0m \u001b[0mflpt\u001b[0m \u001b[1;33m=\u001b[0m \u001b[1;33m[\u001b[0m\u001b[1;33m]\u001b[0m\u001b[1;33m,\u001b[0m \u001b[1;33m[\u001b[0m\u001b[1;33m]\u001b[0m\u001b[1;33m,\u001b[0m \u001b[1;33m[\u001b[0m\u001b[1;33m]\u001b[0m\u001b[1;33m,\u001b[0m \u001b[1;33m[\u001b[0m\u001b[1;33m]\u001b[0m\u001b[1;33m,\u001b[0m \u001b[1;33m[\u001b[0m\u001b[1;33m]\u001b[0m\u001b[1;33m\u001b[0m\u001b[1;33m\u001b[0m\u001b[0m\n",
      "\u001b[1;32m~\\AppData\\Local\\Programs\\Python\\Python38-32\\lib\\site-packages\\pandas\\io\\parsers.py\u001b[0m in \u001b[0;36mread_csv\u001b[1;34m(filepath_or_buffer, sep, delimiter, header, names, index_col, usecols, squeeze, prefix, mangle_dupe_cols, dtype, engine, converters, true_values, false_values, skipinitialspace, skiprows, skipfooter, nrows, na_values, keep_default_na, na_filter, verbose, skip_blank_lines, parse_dates, infer_datetime_format, keep_date_col, date_parser, dayfirst, cache_dates, iterator, chunksize, compression, thousands, decimal, lineterminator, quotechar, quoting, doublequote, escapechar, comment, encoding, dialect, error_bad_lines, warn_bad_lines, delim_whitespace, low_memory, memory_map, float_precision, storage_options)\u001b[0m\n\u001b[0;32m    603\u001b[0m     \u001b[0mkwds\u001b[0m\u001b[1;33m.\u001b[0m\u001b[0mupdate\u001b[0m\u001b[1;33m(\u001b[0m\u001b[0mkwds_defaults\u001b[0m\u001b[1;33m)\u001b[0m\u001b[1;33m\u001b[0m\u001b[1;33m\u001b[0m\u001b[0m\n\u001b[0;32m    604\u001b[0m \u001b[1;33m\u001b[0m\u001b[0m\n\u001b[1;32m--> 605\u001b[1;33m     \u001b[1;32mreturn\u001b[0m \u001b[0m_read\u001b[0m\u001b[1;33m(\u001b[0m\u001b[0mfilepath_or_buffer\u001b[0m\u001b[1;33m,\u001b[0m \u001b[0mkwds\u001b[0m\u001b[1;33m)\u001b[0m\u001b[1;33m\u001b[0m\u001b[1;33m\u001b[0m\u001b[0m\n\u001b[0m\u001b[0;32m    606\u001b[0m \u001b[1;33m\u001b[0m\u001b[0m\n\u001b[0;32m    607\u001b[0m \u001b[1;33m\u001b[0m\u001b[0m\n",
      "\u001b[1;32m~\\AppData\\Local\\Programs\\Python\\Python38-32\\lib\\site-packages\\pandas\\io\\parsers.py\u001b[0m in \u001b[0;36m_read\u001b[1;34m(filepath_or_buffer, kwds)\u001b[0m\n\u001b[0;32m    455\u001b[0m \u001b[1;33m\u001b[0m\u001b[0m\n\u001b[0;32m    456\u001b[0m     \u001b[1;31m# Create the parser.\u001b[0m\u001b[1;33m\u001b[0m\u001b[1;33m\u001b[0m\u001b[1;33m\u001b[0m\u001b[0m\n\u001b[1;32m--> 457\u001b[1;33m     \u001b[0mparser\u001b[0m \u001b[1;33m=\u001b[0m \u001b[0mTextFileReader\u001b[0m\u001b[1;33m(\u001b[0m\u001b[0mfilepath_or_buffer\u001b[0m\u001b[1;33m,\u001b[0m \u001b[1;33m**\u001b[0m\u001b[0mkwds\u001b[0m\u001b[1;33m)\u001b[0m\u001b[1;33m\u001b[0m\u001b[1;33m\u001b[0m\u001b[0m\n\u001b[0m\u001b[0;32m    458\u001b[0m \u001b[1;33m\u001b[0m\u001b[0m\n\u001b[0;32m    459\u001b[0m     \u001b[1;32mif\u001b[0m \u001b[0mchunksize\u001b[0m \u001b[1;32mor\u001b[0m \u001b[0miterator\u001b[0m\u001b[1;33m:\u001b[0m\u001b[1;33m\u001b[0m\u001b[1;33m\u001b[0m\u001b[0m\n",
      "\u001b[1;32m~\\AppData\\Local\\Programs\\Python\\Python38-32\\lib\\site-packages\\pandas\\io\\parsers.py\u001b[0m in \u001b[0;36m__init__\u001b[1;34m(self, f, engine, **kwds)\u001b[0m\n\u001b[0;32m    812\u001b[0m             \u001b[0mself\u001b[0m\u001b[1;33m.\u001b[0m\u001b[0moptions\u001b[0m\u001b[1;33m[\u001b[0m\u001b[1;34m\"has_index_names\"\u001b[0m\u001b[1;33m]\u001b[0m \u001b[1;33m=\u001b[0m \u001b[0mkwds\u001b[0m\u001b[1;33m[\u001b[0m\u001b[1;34m\"has_index_names\"\u001b[0m\u001b[1;33m]\u001b[0m\u001b[1;33m\u001b[0m\u001b[1;33m\u001b[0m\u001b[0m\n\u001b[0;32m    813\u001b[0m \u001b[1;33m\u001b[0m\u001b[0m\n\u001b[1;32m--> 814\u001b[1;33m         \u001b[0mself\u001b[0m\u001b[1;33m.\u001b[0m\u001b[0m_engine\u001b[0m \u001b[1;33m=\u001b[0m \u001b[0mself\u001b[0m\u001b[1;33m.\u001b[0m\u001b[0m_make_engine\u001b[0m\u001b[1;33m(\u001b[0m\u001b[0mself\u001b[0m\u001b[1;33m.\u001b[0m\u001b[0mengine\u001b[0m\u001b[1;33m)\u001b[0m\u001b[1;33m\u001b[0m\u001b[1;33m\u001b[0m\u001b[0m\n\u001b[0m\u001b[0;32m    815\u001b[0m \u001b[1;33m\u001b[0m\u001b[0m\n\u001b[0;32m    816\u001b[0m     \u001b[1;32mdef\u001b[0m \u001b[0mclose\u001b[0m\u001b[1;33m(\u001b[0m\u001b[0mself\u001b[0m\u001b[1;33m)\u001b[0m\u001b[1;33m:\u001b[0m\u001b[1;33m\u001b[0m\u001b[1;33m\u001b[0m\u001b[0m\n",
      "\u001b[1;32m~\\AppData\\Local\\Programs\\Python\\Python38-32\\lib\\site-packages\\pandas\\io\\parsers.py\u001b[0m in \u001b[0;36m_make_engine\u001b[1;34m(self, engine)\u001b[0m\n\u001b[0;32m   1043\u001b[0m             )\n\u001b[0;32m   1044\u001b[0m         \u001b[1;31m# error: Too many arguments for \"ParserBase\"\u001b[0m\u001b[1;33m\u001b[0m\u001b[1;33m\u001b[0m\u001b[1;33m\u001b[0m\u001b[0m\n\u001b[1;32m-> 1045\u001b[1;33m         \u001b[1;32mreturn\u001b[0m \u001b[0mmapping\u001b[0m\u001b[1;33m[\u001b[0m\u001b[0mengine\u001b[0m\u001b[1;33m]\u001b[0m\u001b[1;33m(\u001b[0m\u001b[0mself\u001b[0m\u001b[1;33m.\u001b[0m\u001b[0mf\u001b[0m\u001b[1;33m,\u001b[0m \u001b[1;33m**\u001b[0m\u001b[0mself\u001b[0m\u001b[1;33m.\u001b[0m\u001b[0moptions\u001b[0m\u001b[1;33m)\u001b[0m  \u001b[1;31m# type: ignore[call-arg]\u001b[0m\u001b[1;33m\u001b[0m\u001b[1;33m\u001b[0m\u001b[0m\n\u001b[0m\u001b[0;32m   1046\u001b[0m \u001b[1;33m\u001b[0m\u001b[0m\n\u001b[0;32m   1047\u001b[0m     \u001b[1;32mdef\u001b[0m \u001b[0m_failover_to_python\u001b[0m\u001b[1;33m(\u001b[0m\u001b[0mself\u001b[0m\u001b[1;33m)\u001b[0m\u001b[1;33m:\u001b[0m\u001b[1;33m\u001b[0m\u001b[1;33m\u001b[0m\u001b[0m\n",
      "\u001b[1;32m~\\AppData\\Local\\Programs\\Python\\Python38-32\\lib\\site-packages\\pandas\\io\\parsers.py\u001b[0m in \u001b[0;36m__init__\u001b[1;34m(self, src, **kwds)\u001b[0m\n\u001b[0;32m   1860\u001b[0m \u001b[1;33m\u001b[0m\u001b[0m\n\u001b[0;32m   1861\u001b[0m         \u001b[1;31m# open handles\u001b[0m\u001b[1;33m\u001b[0m\u001b[1;33m\u001b[0m\u001b[1;33m\u001b[0m\u001b[0m\n\u001b[1;32m-> 1862\u001b[1;33m         \u001b[0mself\u001b[0m\u001b[1;33m.\u001b[0m\u001b[0m_open_handles\u001b[0m\u001b[1;33m(\u001b[0m\u001b[0msrc\u001b[0m\u001b[1;33m,\u001b[0m \u001b[0mkwds\u001b[0m\u001b[1;33m)\u001b[0m\u001b[1;33m\u001b[0m\u001b[1;33m\u001b[0m\u001b[0m\n\u001b[0m\u001b[0;32m   1863\u001b[0m         \u001b[1;32massert\u001b[0m \u001b[0mself\u001b[0m\u001b[1;33m.\u001b[0m\u001b[0mhandles\u001b[0m \u001b[1;32mis\u001b[0m \u001b[1;32mnot\u001b[0m \u001b[1;32mNone\u001b[0m\u001b[1;33m\u001b[0m\u001b[1;33m\u001b[0m\u001b[0m\n\u001b[0;32m   1864\u001b[0m         \u001b[1;32mfor\u001b[0m \u001b[0mkey\u001b[0m \u001b[1;32min\u001b[0m \u001b[1;33m(\u001b[0m\u001b[1;34m\"storage_options\"\u001b[0m\u001b[1;33m,\u001b[0m \u001b[1;34m\"encoding\"\u001b[0m\u001b[1;33m,\u001b[0m \u001b[1;34m\"memory_map\"\u001b[0m\u001b[1;33m,\u001b[0m \u001b[1;34m\"compression\"\u001b[0m\u001b[1;33m)\u001b[0m\u001b[1;33m:\u001b[0m\u001b[1;33m\u001b[0m\u001b[1;33m\u001b[0m\u001b[0m\n",
      "\u001b[1;32m~\\AppData\\Local\\Programs\\Python\\Python38-32\\lib\\site-packages\\pandas\\io\\parsers.py\u001b[0m in \u001b[0;36m_open_handles\u001b[1;34m(self, src, kwds)\u001b[0m\n\u001b[0;32m   1355\u001b[0m         \u001b[0mLet\u001b[0m \u001b[0mthe\u001b[0m \u001b[0mreaders\u001b[0m \u001b[0mopen\u001b[0m \u001b[0mIOHanldes\u001b[0m \u001b[0mafter\u001b[0m \u001b[0mthey\u001b[0m \u001b[0mare\u001b[0m \u001b[0mdone\u001b[0m \u001b[1;32mwith\u001b[0m \u001b[0mtheir\u001b[0m \u001b[0mpotential\u001b[0m \u001b[0mraises\u001b[0m\u001b[1;33m.\u001b[0m\u001b[1;33m\u001b[0m\u001b[1;33m\u001b[0m\u001b[0m\n\u001b[0;32m   1356\u001b[0m         \"\"\"\n\u001b[1;32m-> 1357\u001b[1;33m         self.handles = get_handle(\n\u001b[0m\u001b[0;32m   1358\u001b[0m             \u001b[0msrc\u001b[0m\u001b[1;33m,\u001b[0m\u001b[1;33m\u001b[0m\u001b[1;33m\u001b[0m\u001b[0m\n\u001b[0;32m   1359\u001b[0m             \u001b[1;34m\"r\"\u001b[0m\u001b[1;33m,\u001b[0m\u001b[1;33m\u001b[0m\u001b[1;33m\u001b[0m\u001b[0m\n",
      "\u001b[1;32m~\\AppData\\Local\\Programs\\Python\\Python38-32\\lib\\site-packages\\pandas\\io\\common.py\u001b[0m in \u001b[0;36mget_handle\u001b[1;34m(path_or_buf, mode, encoding, compression, memory_map, is_text, errors, storage_options)\u001b[0m\n\u001b[0;32m    640\u001b[0m                 \u001b[0merrors\u001b[0m \u001b[1;33m=\u001b[0m \u001b[1;34m\"replace\"\u001b[0m\u001b[1;33m\u001b[0m\u001b[1;33m\u001b[0m\u001b[0m\n\u001b[0;32m    641\u001b[0m             \u001b[1;31m# Encoding\u001b[0m\u001b[1;33m\u001b[0m\u001b[1;33m\u001b[0m\u001b[1;33m\u001b[0m\u001b[0m\n\u001b[1;32m--> 642\u001b[1;33m             handle = open(\n\u001b[0m\u001b[0;32m    643\u001b[0m                 \u001b[0mhandle\u001b[0m\u001b[1;33m,\u001b[0m\u001b[1;33m\u001b[0m\u001b[1;33m\u001b[0m\u001b[0m\n\u001b[0;32m    644\u001b[0m                 \u001b[0mioargs\u001b[0m\u001b[1;33m.\u001b[0m\u001b[0mmode\u001b[0m\u001b[1;33m,\u001b[0m\u001b[1;33m\u001b[0m\u001b[1;33m\u001b[0m\u001b[0m\n",
      "\u001b[1;31mFileNotFoundError\u001b[0m: [Errno 2] No such file or directory: 'csv_folder/MODEL_0.csv'"
     ]
    }
   ],
   "source": [
    "df = pd.read_csv('csv_folder/MODEL_0.csv', parse_dates=[0], index_col=[0])\n",
    "j, y, ind_j = 0, 0, 0\n",
    "time_list, q_oil, q_gas, q_wat, inj_wat = [], [], [], [], []\n",
    "to = df.index[0]\n",
    "fopt, fgpt, fwpt, fwit, flpt = [], [], [], [], []\n",
    "for t in df.index:\n",
    "    if abs((t - to).days) >= 360:\n",
    "        time_list.append(2020+y)\n",
    "        to = t\n",
    "        if y == 0:\n",
    "            fopt.append(round(df['FOPT'][j]/1000,2)) # добыча нефти по годам, тыс. т\n",
    "            fgpt.append(round(df['FGPT'][j]/1000000,2)) # добыча газа по годам, млн м3\n",
    "            fwpt.append(round(df['FWPT'][j]/1000,2)) # добыча воды по годам, тыс т\n",
    "            fwit.append(round(df['FWIT'][j]/1000,2)) # закачка воды по годам, тыс м3\n",
    "        else:\n",
    "            fopt.append(round(df['FOPT'][j]/1000-df['FOPT'][ind_j]/1000, 2)) # добыча нефти по годам, тыс. т\n",
    "            fgpt.append(round(df['FGPT'][j]/1000000-df['FGPT'][ind_j]/1000000,2)) # добыча газа по годам, млн м3\n",
    "            fwpt.append(round(df['FWPT'][j]/1000-df['FWPT'][ind_j]/1000,2)) # добыча воды по годам, тыс т\n",
    "            fwit.append(round(df['FWIT'][j]/1000-df['FWIT'][ind_j]/1000,2)) # закачка воды по годам, тыс м3\n",
    "        ind_j = j\n",
    "        y += 1\n",
    "    j += 1\n",
    "flpt = [round(x + y,2) for x, y in zip(fopt, fwpt)] # добыча жидкости = добыча нефти + добыча воды\n",
    "prod_fig = go.Figure()\n",
    "prod_fig.add_trace(go.Scatter(x=time_list, y=fopt, name='Добыча нефти, тыс. т'))\n",
    "prod_fig.add_trace(go.Scatter(x=time_list, y=flpt, name='Добыча жидкости, тыс. т'))\n",
    "prod_fig.add_trace(go.Scatter(x=time_list, y=fgpt, name='Добыча попутного газа, млн нм3'))\n",
    "prod_fig.add_trace(go.Scatter(x=time_list, y=fwit, name='Закачка воды, тыс. м3'))\n",
    "prod_fig.update_layout(legend_orientation=\"h\",\n",
    "                  legend=dict(x=.5, xanchor=\"center\"),\n",
    "                  title=\"Основные показатели разработки\")\n",
    "prod_fig.show()"
   ]
  },
  {
   "cell_type": "markdown",
   "id": "suspended-closer",
   "metadata": {},
   "source": [
    "*4) Вводим экономические показатели бурения скважин и данные о их вводе в эксплуатацию:*"
   ]
  },
  {
   "cell_type": "code",
   "execution_count": null,
   "id": "backed-privilege",
   "metadata": {},
   "outputs": [],
   "source": [
    "drilling_speeds = [225, 225, 270, 270] # скорости проходки БУ1, БУ2, и т.д.; определенные значения для разных типов БУ (180, 225, 270)\n",
    "MD_drilling_prices, HW_prices, HF_prices, intensification_prices = [], [], [], []\n",
    "for speed in drilling_speeds:\n",
    "    MD_drilling_price = speed/100*100000 # стоимость проходки по стволу, руб/м\n",
    "    HW_price = speed/100*160000 # стоимость бурения ГС, руб/м\n",
    "    HF_price = speed/100*200000 # стоимость ГРП, руб/м полудлины трещины\n",
    "    intensification_price = speed/100*2000000 # стоимость ОПЗ, руб/м полудлины трещины\n",
    "    MD_drilling_prices.append(MD_drilling_price)\n",
    "    HW_prices.append(HW_price)\n",
    "    HF_prices.append(HF_price)\n",
    "    intensification_prices.append(intensification_price)\n",
    "i = len(time_list)\n",
    "prod_direct_wells = [[2, 1], [2, 0], [2, 0], [1, 0]] # ввод добывающих ННС без ГРП; основной список содержит вложенные списки - кусты, которые содержат элементы - кол-во скважин, введенных в экспл. в i-м году\n",
    "for k in range(0, len(prod_direct_wells)):\n",
    "    for j in range(len(prod_direct_wells[k]), i):\n",
    "        prod_direct_wells[k].append(0)\n",
    "        j+=1\n",
    "prod_direct_wells_with_HF = [[0, 0], [0, 0], [0, 0], [0, 0]] # ввод добывающих ННС с ГРП\n",
    "for k in range(0, len(prod_direct_wells_with_HF)):\n",
    "    for j in range(len(prod_direct_wells_with_HF[k]), i):\n",
    "        prod_direct_wells_with_HF[k].append(0)\n",
    "        j+=1\n",
    "prod_direct_wells_with_intense = [[0, 0], [0, 0], [0, 0], [0, 0]] # ввод добывающих ННС с ОПЗ\n",
    "for k in range(0, len(prod_direct_wells_with_intense)):\n",
    "    for j in range(len(prod_direct_wells_with_intense[k]), i):\n",
    "        prod_direct_wells_with_intense[k].append(0)\n",
    "        j+=1\n",
    "prod_horizontal_wells = [[], [], [], []] # ввод добывающих ГС\n",
    "for k in range(0, len(prod_horizontal_wells)):\n",
    "    for j in range(len(prod_horizontal_wells[k]), i):\n",
    "        prod_horizontal_wells[k].append(0)\n",
    "        j+=1\n",
    "inj_direct_wells = [[0, 1], [0, 1], [0, 2], [1, 1]] # ввод нагнетательных ННС\n",
    "for k in range(0, len(inj_direct_wells)):\n",
    "    for j in range(len(inj_direct_wells[k]), i):\n",
    "        inj_direct_wells[k].append(0)\n",
    "        j+=1"
   ]
  },
  {
   "cell_type": "markdown",
   "id": "young-columbus",
   "metadata": {},
   "source": [
    "*5) Рассчитаем доходы от продажи нефти:*"
   ]
  },
  {
   "cell_type": "code",
   "execution_count": null,
   "id": "yellow-benjamin",
   "metadata": {},
   "outputs": [],
   "source": [
    "incomes = []\n",
    "for oil_rate in fopt:\n",
    "    sales = oil_rate * oil_price * 1000 # доход от продажи, руб\n",
    "    taxes = oil_rate * oil_taxes * 1000 # налог, руб\n",
    "    transport_outlay = oil_rate * transport_price * 1000 # расходы на транспорт нефти, руб\n",
    "    income = sales - taxes - transport_outlay # чистый доход, руб\n",
    "    incomes.append(income)"
   ]
  },
  {
   "cell_type": "markdown",
   "id": "continental-glenn",
   "metadata": {},
   "source": [
    "*6) Рассчитаем капитальные затраты на бурение скважин:*"
   ]
  },
  {
   "cell_type": "code",
   "execution_count": null,
   "id": "ecological-rating",
   "metadata": {},
   "outputs": [],
   "source": [
    "drilling_CAPEX_list = []\n",
    "for time in time_list: # кап.затраты по годам\n",
    "    j = 0\n",
    "    drilling_CAPEX = 0\n",
    "    for i in range(0, pads_number): # кап.затраты на данный год складываются по всем кустам\n",
    "        prod_direct_wells_CAPEX = depth * MD_drilling_prices[i] * prod_direct_wells[i][j] # кап.затраты на строительство добывающих ННС без ГРП\n",
    "        prod_direct_wells_with_HF_CAPEX = (depth * MD_drilling_prices[i] + HF_halflength *  HF_prices[i]) * prod_direct_wells_with_HF[i][j] # кап.затраты на строительство добывающих ННС с ГРП\n",
    "        prod_direct_wells_with_intense_CAPEX = (depth * MD_drilling_prices[i] + intensification_prices[i]) * prod_direct_wells_with_intense[i][j] # кап.затраты на строительство добывающих ННС с ОПЗ\n",
    "        prod_horizontal_wells_CAPEX = (depth * MD_drilling_prices[i] + horizontal_length * HW_prices[i]) * prod_horizontal_wells[i][j] # кап.затраты на строительство добывающих ГС\n",
    "        inj_direct_wells_CAPEX = depth * MD_drilling_prices[i] * inj_direct_wells[i][j] # кап.затраты на строительство нагнетательных ННС\n",
    "        drilling_CAPEX += (prod_direct_wells_CAPEX + prod_direct_wells_with_HF_CAPEX + prod_direct_wells_with_intense_CAPEX + prod_horizontal_wells_CAPEX + inj_direct_wells_CAPEX) # кап.затраты на строительство нагнетательных ННС\n",
    "    drilling_CAPEX_list.append(drilling_CAPEX)\n",
    "    j+=1\n",
    "print(drilling_CAPEX_list)"
   ]
  },
  {
   "cell_type": "markdown",
   "id": "comparable-pollution",
   "metadata": {},
   "source": [
    "*7) Рассчитаем капитальные затраты на обустройство месторождения:*"
   ]
  },
  {
   "cell_type": "code",
   "execution_count": null,
   "id": "sustained-jones",
   "metadata": {},
   "outputs": [],
   "source": []
  }
 ],
 "metadata": {
  "kernelspec": {
   "display_name": "Python 3",
   "language": "python",
   "name": "python3"
  },
  "language_info": {
   "codemirror_mode": {
    "name": "ipython",
    "version": 3
   },
   "file_extension": ".py",
   "mimetype": "text/x-python",
   "name": "python",
   "nbconvert_exporter": "python",
   "pygments_lexer": "ipython3",
   "version": "3.8.5"
  }
 },
 "nbformat": 4,
 "nbformat_minor": 5
}
