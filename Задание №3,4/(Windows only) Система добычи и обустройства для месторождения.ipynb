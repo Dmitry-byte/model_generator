{
 "cells": [
  {
   "cell_type": "markdown",
   "id": "metric-thumbnail",
   "metadata": {},
   "source": [
    "2) Построить систему добычи и обустройства для месторождения\n",
    "* Нарисовать схему трубопроводов и дорог\n",
    "* Подобрать диаметры трубопроводов\n",
    "\n",
    "#### Проведем расчет простой интегрирвоанной модели прямо в тетради с использованием API."
   ]
  },
  {
   "cell_type": "markdown",
   "id": "magnetic-devil",
   "metadata": {},
   "source": [
    "На месторождении планируется построить 4 добывающие скважины. Скважины вертикальные.\n",
    "\n",
    "Продукцию с месторождения планируется транспортировать в уже построенный цех подготовки и перекачки нефти ЦППН. Взаимное расположение скважин и ЦППН показано на схеме.  На ЦППН есть ограничение, что давление на входе должно составлять 15 атм. \n",
    "\n",
    "По скважинам заданы коэффициенты продуктивности (PI). \n",
    "\n",
    "По результатам эксплуатации месторождений аналогов ожидается, что обводненность будет меняться по мере истощения запасов следующим образом.\n",
    "\n",
    "Параметры нефти:\n",
    "\n",
    "* γoil=0.86\n",
    "* γgas=0.65\n",
    "* γwat=1\n",
    "* rsb=150 м3/м3\n",
    "* Pb=150 атм\n",
    "* Запасы OIP=1500 тыс. м3\n",
    "\n",
    "Можно применять насос создающий перепад давления 50 атм в скважине. Насос может быть установлен в любой год на любой скважине.\n",
    "Необходимо рассчитать профиль добычи жидкости и нефти на месторождении на 10 лет, с учетом работы скважин и трубопроводов на поверхности.\n",
    "\n",
    "Продуктивность всех скважин снижается каждый год на 5%.\n",
    "\n",
    "Надобходимо выполнить:\n",
    "\n",
    "* Провести расчет по годам\n",
    "* Подобрать параметры системы сбора - расположения узлов, диаметры трубопроводов и пр\n",
    "* Оценить какой параметр системы наиболее сильно будет влиять на добычу нефти за 10 лет"
   ]
  },
  {
   "cell_type": "code",
   "execution_count": 1,
   "id": "informed-worth",
   "metadata": {},
   "outputs": [
    {
     "ename": "ImportError",
     "evalue": "cannot import name '_psutil_linux' from partially initialized module 'psutil' (most likely due to a circular import) (/usr/lib/python3/dist-packages/psutil/__init__.py)",
     "output_type": "error",
     "traceback": [
      "\u001b[0;31m---------------------------------------------------------------------------\u001b[0m",
      "\u001b[0;31mImportError\u001b[0m                               Traceback (most recent call last)",
      "\u001b[0;32m<ipython-input-1-f5d50e631190>\u001b[0m in \u001b[0;36m<module>\u001b[0;34m\u001b[0m\n\u001b[1;32m      3\u001b[0m \u001b[0msys\u001b[0m\u001b[0;34m.\u001b[0m\u001b[0mpath\u001b[0m\u001b[0;34m.\u001b[0m\u001b[0minsert\u001b[0m\u001b[0;34m(\u001b[0m\u001b[0;36m0\u001b[0m\u001b[0;34m,\u001b[0m\u001b[0;34m'..'\u001b[0m\u001b[0;34m)\u001b[0m\u001b[0;34m\u001b[0m\u001b[0;34m\u001b[0m\u001b[0m\n\u001b[1;32m      4\u001b[0m \u001b[0;31m# импортируем api\u001b[0m\u001b[0;34m\u001b[0m\u001b[0;34m\u001b[0m\u001b[0;34m\u001b[0m\u001b[0m\n\u001b[0;32m----> 5\u001b[0;31m \u001b[0;32mimport\u001b[0m \u001b[0munifloc_vba_python_api\u001b[0m\u001b[0;34m.\u001b[0m\u001b[0mpython_api\u001b[0m \u001b[0;32mas\u001b[0m \u001b[0mpython_api\u001b[0m\u001b[0;34m\u001b[0m\u001b[0;34m\u001b[0m\u001b[0m\n\u001b[0m\u001b[1;32m      6\u001b[0m \u001b[0;31m# готовим объект с доступом к надстройке. При этом надстройка откроется и запустится excel\u001b[0m\u001b[0;34m\u001b[0m\u001b[0;34m\u001b[0m\u001b[0;34m\u001b[0m\u001b[0m\n\u001b[1;32m      7\u001b[0m \u001b[0mUniflocVBA\u001b[0m \u001b[0;34m=\u001b[0m \u001b[0mpython_api\u001b[0m\u001b[0;34m.\u001b[0m\u001b[0mAPI\u001b[0m\u001b[0;34m(\u001b[0m\u001b[0;34m\"../UniflocVBA_7.xlam\"\u001b[0m\u001b[0;34m)\u001b[0m\u001b[0;34m\u001b[0m\u001b[0;34m\u001b[0m\u001b[0m\n",
      "\u001b[0;32m~/Desktop/model_generator/Задание №3,4/unifloc_vba_python_api/python_api.py\u001b[0m in \u001b[0;36m<module>\u001b[0;34m\u001b[0m\n\u001b[1;32m     21\u001b[0m \u001b[0mconst_rho_air\u001b[0m \u001b[0;34m=\u001b[0m \u001b[0;36m1.2217\u001b[0m\u001b[0;34m\u001b[0m\u001b[0;34m\u001b[0m\u001b[0m\n\u001b[1;32m     22\u001b[0m \u001b[0;34m\u001b[0m\u001b[0m\n\u001b[0;32m---> 23\u001b[0;31m \u001b[0;32mimport\u001b[0m \u001b[0mxlwings\u001b[0m \u001b[0;32mas\u001b[0m \u001b[0mxw\u001b[0m\u001b[0;34m\u001b[0m\u001b[0;34m\u001b[0m\u001b[0m\n\u001b[0m\u001b[1;32m     24\u001b[0m \u001b[0maddin_name_str\u001b[0m \u001b[0;34m=\u001b[0m \u001b[0;34m\"UniflocVBA_7.xlam\"\u001b[0m\u001b[0;34m\u001b[0m\u001b[0;34m\u001b[0m\u001b[0m\n\u001b[1;32m     25\u001b[0m \u001b[0;32mclass\u001b[0m \u001b[0mAPI\u001b[0m\u001b[0;34m(\u001b[0m\u001b[0;34m)\u001b[0m\u001b[0;34m:\u001b[0m\u001b[0;34m\u001b[0m\u001b[0;34m\u001b[0m\u001b[0m\n",
      "\u001b[0;32m~/.local/lib/python3.9/site-packages/xlwings/__init__.py\u001b[0m in \u001b[0;36m<module>\u001b[0;34m\u001b[0m\n\u001b[1;32m      9\u001b[0m     \u001b[0;32mfrom\u001b[0m \u001b[0;34m.\u001b[0m \u001b[0;32mimport\u001b[0m \u001b[0m_xlwindows\u001b[0m \u001b[0;32mas\u001b[0m \u001b[0mxlplatform\u001b[0m\u001b[0;34m\u001b[0m\u001b[0;34m\u001b[0m\u001b[0m\n\u001b[1;32m     10\u001b[0m \u001b[0;32melse\u001b[0m\u001b[0;34m:\u001b[0m\u001b[0;34m\u001b[0m\u001b[0;34m\u001b[0m\u001b[0m\n\u001b[0;32m---> 11\u001b[0;31m     \u001b[0;32mfrom\u001b[0m \u001b[0;34m.\u001b[0m \u001b[0;32mimport\u001b[0m \u001b[0m_xlmac\u001b[0m \u001b[0;32mas\u001b[0m \u001b[0mxlplatform\u001b[0m\u001b[0;34m\u001b[0m\u001b[0;34m\u001b[0m\u001b[0m\n\u001b[0m\u001b[1;32m     12\u001b[0m \u001b[0;34m\u001b[0m\u001b[0m\n\u001b[1;32m     13\u001b[0m \u001b[0mtime_types\u001b[0m \u001b[0;34m=\u001b[0m \u001b[0mxlplatform\u001b[0m\u001b[0;34m.\u001b[0m\u001b[0mtime_types\u001b[0m\u001b[0;34m\u001b[0m\u001b[0;34m\u001b[0m\u001b[0m\n",
      "\u001b[0;32m~/.local/lib/python3.9/site-packages/xlwings/_xlmac.py\u001b[0m in \u001b[0;36m<module>\u001b[0;34m\u001b[0m\n\u001b[1;32m      7\u001b[0m \u001b[0;32mimport\u001b[0m \u001b[0matexit\u001b[0m\u001b[0;34m\u001b[0m\u001b[0;34m\u001b[0m\u001b[0m\n\u001b[1;32m      8\u001b[0m \u001b[0;34m\u001b[0m\u001b[0m\n\u001b[0;32m----> 9\u001b[0;31m \u001b[0;32mimport\u001b[0m \u001b[0mpsutil\u001b[0m\u001b[0;34m\u001b[0m\u001b[0;34m\u001b[0m\u001b[0m\n\u001b[0m\u001b[1;32m     10\u001b[0m \u001b[0;32mimport\u001b[0m \u001b[0maem\u001b[0m\u001b[0;34m\u001b[0m\u001b[0;34m\u001b[0m\u001b[0m\n\u001b[1;32m     11\u001b[0m \u001b[0;32mimport\u001b[0m \u001b[0mappscript\u001b[0m\u001b[0;34m\u001b[0m\u001b[0;34m\u001b[0m\u001b[0m\n",
      "\u001b[0;32m/usr/lib/python3/dist-packages/psutil/__init__.py\u001b[0m in \u001b[0;36m<module>\u001b[0;34m\u001b[0m\n\u001b[1;32m     93\u001b[0m     \u001b[0mPROCFS_PATH\u001b[0m \u001b[0;34m=\u001b[0m \u001b[0;34m\"/proc\"\u001b[0m\u001b[0;34m\u001b[0m\u001b[0;34m\u001b[0m\u001b[0m\n\u001b[1;32m     94\u001b[0m \u001b[0;34m\u001b[0m\u001b[0m\n\u001b[0;32m---> 95\u001b[0;31m     \u001b[0;32mfrom\u001b[0m \u001b[0;34m.\u001b[0m \u001b[0;32mimport\u001b[0m \u001b[0m_pslinux\u001b[0m \u001b[0;32mas\u001b[0m \u001b[0m_psplatform\u001b[0m\u001b[0;34m\u001b[0m\u001b[0;34m\u001b[0m\u001b[0m\n\u001b[0m\u001b[1;32m     96\u001b[0m \u001b[0;34m\u001b[0m\u001b[0m\n\u001b[1;32m     97\u001b[0m     \u001b[0;32mfrom\u001b[0m \u001b[0;34m.\u001b[0m\u001b[0m_pslinux\u001b[0m \u001b[0;32mimport\u001b[0m \u001b[0mIOPRIO_CLASS_BE\u001b[0m  \u001b[0;31m# NOQA\u001b[0m\u001b[0;34m\u001b[0m\u001b[0;34m\u001b[0m\u001b[0m\n",
      "\u001b[0;32m/usr/lib/python3/dist-packages/psutil/_pslinux.py\u001b[0m in \u001b[0;36m<module>\u001b[0;34m\u001b[0m\n\u001b[1;32m     24\u001b[0m \u001b[0;32mfrom\u001b[0m \u001b[0;34m.\u001b[0m \u001b[0;32mimport\u001b[0m \u001b[0m_common\u001b[0m\u001b[0;34m\u001b[0m\u001b[0;34m\u001b[0m\u001b[0m\n\u001b[1;32m     25\u001b[0m \u001b[0;32mfrom\u001b[0m \u001b[0;34m.\u001b[0m \u001b[0;32mimport\u001b[0m \u001b[0m_psposix\u001b[0m\u001b[0;34m\u001b[0m\u001b[0;34m\u001b[0m\u001b[0m\n\u001b[0;32m---> 26\u001b[0;31m \u001b[0;32mfrom\u001b[0m \u001b[0;34m.\u001b[0m \u001b[0;32mimport\u001b[0m \u001b[0m_psutil_linux\u001b[0m \u001b[0;32mas\u001b[0m \u001b[0mcext\u001b[0m\u001b[0;34m\u001b[0m\u001b[0;34m\u001b[0m\u001b[0m\n\u001b[0m\u001b[1;32m     27\u001b[0m \u001b[0;32mfrom\u001b[0m \u001b[0;34m.\u001b[0m \u001b[0;32mimport\u001b[0m \u001b[0m_psutil_posix\u001b[0m \u001b[0;32mas\u001b[0m \u001b[0mcext_posix\u001b[0m\u001b[0;34m\u001b[0m\u001b[0;34m\u001b[0m\u001b[0m\n\u001b[1;32m     28\u001b[0m \u001b[0;32mfrom\u001b[0m \u001b[0;34m.\u001b[0m\u001b[0m_common\u001b[0m \u001b[0;32mimport\u001b[0m \u001b[0mENCODING\u001b[0m\u001b[0;34m\u001b[0m\u001b[0;34m\u001b[0m\u001b[0m\n",
      "\u001b[0;31mImportError\u001b[0m: cannot import name '_psutil_linux' from partially initialized module 'psutil' (most likely due to a circular import) (/usr/lib/python3/dist-packages/psutil/__init__.py)"
     ]
    }
   ],
   "source": [
    "# подготовимся к импорту API который находится в родительской папке относительно этой тетрадки\n",
    "import sys\n",
    "sys.path.insert(0,'..')\n",
    "# импортируем api\n",
    "import unifloc_vba_python_api.python_api as python_api \n",
    "# готовим объект с доступом к надстройке. При этом надстройка откроется и запустится excel \n",
    "UniflocVBA = python_api.API(\"../UniflocVBA_7.xlam\")\n",
    "print(\"import excel with unifloc vba done. version \" + UniflocVBA.unf_version())"
   ]
  },
  {
   "cell_type": "code",
   "execution_count": null,
   "id": "center-option",
   "metadata": {},
   "outputs": [],
   "source": []
  }
 ],
 "metadata": {
  "kernelspec": {
   "display_name": "Python 3",
   "language": "python",
   "name": "python3"
  },
  "language_info": {
   "codemirror_mode": {
    "name": "ipython",
    "version": 3
   },
   "file_extension": ".py",
   "mimetype": "text/x-python",
   "name": "python",
   "nbconvert_exporter": "python",
   "pygments_lexer": "ipython3",
   "version": "3.9.1"
  }
 },
 "nbformat": 4,
 "nbformat_minor": 5
}
